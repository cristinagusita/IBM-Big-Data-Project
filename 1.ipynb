{
 "cells": [
  {
   "cell_type": "code",
   "execution_count": 1,
   "metadata": {},
   "outputs": [],
   "source": [
    "import pyspark"
   ]
  },
  {
   "cell_type": "code",
   "execution_count": 3,
   "metadata": {},
   "outputs": [],
   "source": [
    "from pyspark.sql import SparkSession\n",
    "\n",
    "spark = SparkSession.builder.getOrCreate()"
   ]
  },
  {
   "cell_type": "code",
   "execution_count": 7,
   "metadata": {},
   "outputs": [
    {
     "name": "stdout",
     "output_type": "stream",
     "text": [
      "+--------------------+-----------------+---------------+--------------------+----------------------+\n",
      "|   Project Reference|Mobility Duration|Participant Age|Sending Country Code|Receiving Country Code|\n",
      "+--------------------+-----------------+---------------+--------------------+----------------------+\n",
      "|2014-1-BE04-KA347...|                2|             18|                  FR|                    BE|\n",
      "|2014-1-BE04-KA347...|                3|             22|                  FR|                    BE|\n",
      "|2014-1-BE04-KA347...|                3|             27|                  FR|                    BE|\n",
      "|2014-1-BE04-KA347...|                3|             27|                  FR|                    BE|\n",
      "|2014-1-BE04-KA347...|                3|             25|                  FR|                    BE|\n",
      "+--------------------+-----------------+---------------+--------------------+----------------------+\n",
      "only showing top 5 rows\n",
      "\n"
     ]
    }
   ],
   "source": [
    "spark.read.csv('Erasmus.csv', header=True).show(5)"
   ]
  },
  {
   "cell_type": "code",
   "execution_count": null,
   "metadata": {},
   "outputs": [],
   "source": []
  }
 ],
 "metadata": {
  "kernelspec": {
   "display_name": "Python 3",
   "language": "python",
   "name": "python3"
  },
  "language_info": {
   "codemirror_mode": {
    "name": "ipython",
    "version": 3
   },
   "file_extension": ".py",
   "mimetype": "text/x-python",
   "name": "python",
   "nbconvert_exporter": "python",
   "pygments_lexer": "ipython3",
   "version": "3.10.7"
  },
  "orig_nbformat": 4
 },
 "nbformat": 4,
 "nbformat_minor": 2
}
